{
 "cells": [
  {
   "cell_type": "markdown",
   "id": "978ca97e",
   "metadata": {},
   "source": [
    "<div align=\"center\">\n",
    "\n",
    "### **TALLER #2 SEÑALES Y SISTEMAS - 2025 2S**\n",
    "#### **Estudiante:** Martín Ramírez Espinosa\n",
    "##### Departamento de Ingeniería Eléctrica, Electrónica y Computación\n",
    "##### Universidad Nacional de Colombia - Sede Manizales\n",
    "\n",
    "</div>\n",
    "\n",
    "---"
   ]
  },
  {
   "cell_type": "code",
   "execution_count": 4,
   "id": "d9deac48",
   "metadata": {},
   "outputs": [],
   "source": [
    "import numpy as np\n",
    "import matplotlib.pyplot as plt"
   ]
  },
  {
   "cell_type": "markdown",
   "id": "b1bee1e7",
   "metadata": {},
   "source": [
    "### **1. Transformada de Fourier**"
   ]
  },
  {
   "cell_type": "markdown",
   "id": "0757bdaf",
   "metadata": {},
   "source": [
    "#### **1.1. Consultar y realizar los ejercicios propuestos en el cuaderno 2_TransformadaFourier_SAudio.ipynb**"
   ]
  },
  {
   "cell_type": "markdown",
   "id": "95f2aeb1",
   "metadata": {},
   "source": [
    "---"
   ]
  },
  {
   "cell_type": "markdown",
   "id": "de968645",
   "metadata": {},
   "source": [
    "##### **a) Presente y describa el modelo que utiliza la FFT para el cálculo de los armónicos**"
   ]
  },
  {
   "cell_type": "markdown",
   "id": "6ccc9b68",
   "metadata": {},
   "source": [
    "**Serie de Fourier continua**\n",
    "\n",
    "Para una señal periódica $x(t)$ de periodo $T_0$, la serie de Fourier compleja representa a $x(t)$ como combinación lineal de armónicos:"
   ]
  },
  {
   "cell_type": "markdown",
   "id": "30f8454e",
   "metadata": {},
   "source": [
    "<div align=\"center\">\n",
    "\n",
    "$$\n",
    "x(t) = \\sum_{k=-\\infty}^{\\infty} c_k e^{j k \\omega_0 t}, \\quad c_k = \\frac{1}{T_0} \\int_{t_0}^{t_0+T_0} x(t) e^{-j k \\omega_0 t}\\, dt,\n",
    "$$\n",
    "\n",
    "</div>"
   ]
  },
  {
   "cell_type": "markdown",
   "id": "ff5ed712",
   "metadata": {},
   "source": [
    "donde $\\omega_0 = \\frac{2\\pi}{T_0}$ es la frecuencia angular fundamental. Al hacer tender $T_0$ a infinito, los índices discretos $k$ se densifican dando lugar a un espectro continuo."
   ]
  },
  {
   "cell_type": "markdown",
   "id": "438ed090",
   "metadata": {},
   "source": [
    "**Transformada de Fourier (FT)**\n",
    "\n",
    "El caso aperiódico se modela con la transformada de Fourier, límite continuo de la serie anterior:"
   ]
  },
  {
   "cell_type": "markdown",
   "id": "a8f7c030",
   "metadata": {},
   "source": [
    "<div align=\"center\">\n",
    "\n",
    "$$\n",
    "X(\\omega) = \\int_{-\\infty}^{\\infty} x(t) e^{-j \\omega t}\\, dt, \\qquad x(t) = \\frac{1}{2\\pi} \\int_{-\\infty}^{\\infty} X(\\omega) e^{j \\omega t}\\, d\\omega.\n",
    "$$\n",
    "\n",
    "</div>"
   ]
  },
  {
   "cell_type": "markdown",
   "id": "8f7a7521",
   "metadata": {},
   "source": [
    "Estas expresiones enlazan la señal en el tiempo continuo con su densidad espectral continua sobre $\\omega \\in \\mathbb{R}$."
   ]
  },
  {
   "cell_type": "markdown",
   "id": "811e910e",
   "metadata": {},
   "source": [
    "**Transformada de Fourier de Tiempo Discreto (DTFT)**\n",
    "\n",
    "Si $x(t)$ se muestrea idealmente con periodo $T_s$, se obtiene $x[n] = x(nT_s)$, es decir, un muestreo infinito. Su DTFT se expresa en términos de la frecuencia angular digital $\\Omega$:"
   ]
  },
  {
   "cell_type": "markdown",
   "id": "1cc8672c",
   "metadata": {},
   "source": [
    "<div align=\"center\">\n",
    "\n",
    "$$\n",
    "X(\\Omega) = \\sum_{n=-\\infty}^{\\infty} x[n] e^{-j \\Omega n}, \\qquad -\\pi \\le \\Omega < \\pi,\n",
    "$$\n",
    "\n",
    "</div>"
   ]
  },
  {
   "cell_type": "markdown",
   "id": "34ada247",
   "metadata": {},
   "source": [
    "y la relación inversa, que reconstruye $x[n]$ a partir de un periodo fundamental del espectro periódico, es"
   ]
  },
  {
   "cell_type": "markdown",
   "id": "417c11fc",
   "metadata": {},
   "source": [
    "<div align=\"center\">\n",
    "\n",
    "$$\n",
    "x[n] = \\frac{1}{2\\pi} \\int_{-\\pi}^{\\pi} X(\\Omega) e^{j \\Omega n}\\, d\\Omega.\n",
    "$$\n",
    "\n",
    "</div>"
   ]
  },
  {
   "cell_type": "markdown",
   "id": "434eb424",
   "metadata": {},
   "source": [
    "El factor $\\frac{1}{2\\pi}$ y los límites $[-\\pi, \\pi)$ garantizan la ortonormalidad de las exponenciales discretas y reflejan que $X(\\Omega)$ es $2\\pi$-periódica en $\\Omega$."
   ]
  },
  {
   "cell_type": "markdown",
   "id": "fde32e6d",
   "metadata": {},
   "source": [
    "**Transformada Discreta de Fourier (DFT)**\n",
    "\n",
    "Si la secuencia se trunca a un bloque finito de $N$ muestras, se emplea la DFT:"
   ]
  },
  {
   "cell_type": "markdown",
   "id": "f77c3deb",
   "metadata": {},
   "source": [
    "<div align=\"center\">\n",
    "\n",
    "$$\n",
    "X[k] = \\sum_{n=0}^{N-1} x[n] e^{-j k \\frac{2\\pi}{N} n}, \\qquad k = 0, 1, \\dots, N-1,\n",
    "$$\n",
    "\n",
    "</div>"
   ]
  },
  {
   "cell_type": "markdown",
   "id": "1b47a6d2",
   "metadata": {},
   "source": [
    "con inversa"
   ]
  },
  {
   "cell_type": "markdown",
   "id": "323c4d3a",
   "metadata": {},
   "source": [
    "<div align=\"center\">\n",
    "\n",
    "$$\n",
    "x[n] = \\frac{1}{N} \\sum_{k=0}^{N-1} X[k] e^{j k \\frac{2\\pi}{N} n}, \\qquad n = 0, 1, \\dots, N-1.\n",
    "$$\n",
    "\n",
    "</div>"
   ]
  },
  {
   "cell_type": "markdown",
   "id": "5ed8fea1",
   "metadata": {},
   "source": [
    "Las muestras $X[k]$ muestrean la DTFT cada $\\frac{2\\pi}{N}$ radianes, por lo que representan armónicos discretos de la señal."
   ]
  },
  {
   "cell_type": "markdown",
   "id": "90ed5e32",
   "metadata": {},
   "source": [
    "**Modelo de la FFT para el cálculo de armónicos**\n",
    "\n",
    "Calcular la DFT de forma directa exige $N$ sumas de $N$ productos complejos (orden $O(N^2)$). Los algoritmos FFT, como Cooley–Tukey, factorizan la DFT explotando simetrías de las exponenciales $W_N = e^{-j \\frac{2\\pi}{N}}$. Para $N = 2^m$, se separan las muestras en subsecuencias par $x_e[n] = x[2n]$ e impar $x_o[n] = x[2n+1]$, obteniendo"
   ]
  },
  {
   "cell_type": "markdown",
   "id": "e61e1d35",
   "metadata": {},
   "source": [
    "<div align=\"center\">\n",
    "\n",
    "$$\n",
    "X[k] = X_e[k] + W_N^{k} X_o[k], \\qquad X[k + \\frac{N}{2}] = X_e[k] - W_N^{k} X_o[k],\n",
    "$$\n",
    "\n",
    "</div>"
   ]
  },
  {
   "cell_type": "markdown",
   "id": "ef1f3f0b",
   "metadata": {},
   "source": [
    "con $X_e[k]$ y $X_o[k]$ DFTs de tamaño $\\frac{N}{2}$. Esta descomposición se aplica recursivamente hasta llegar a DFTs de 2 puntos (\"butterflies\")."
   ]
  },
  {
   "cell_type": "markdown",
   "id": "ec6f2fe3",
   "metadata": {},
   "source": [
    "En cada nivel de la recursión se realizan $N$ combinaciones lineales, y hay $\\log_2 N$ niveles, por lo que el costo total es $O(N \\log N)$. Gracias a esta reducción de complejidad, la FFT permite estimar simultáneamente todos los armónicos de señales largas o muestreadas en tiempo real sin incurrir en el costo cuadrático de la DFT directa."
   ]
  },
  {
   "cell_type": "markdown",
   "id": "bae2ff1b",
   "metadata": {},
   "source": [
    "---"
   ]
  },
  {
   "cell_type": "markdown",
   "id": "31d197c1",
   "metadata": {},
   "source": [
    "##### **b) Realice una comparación del tiempo de cómputo requerido para el cálculo de la transformada discreta de Fourier utilizado la estimación por sumatoria vs la FFT. Pruebe distintos valores de longitud de la señal de entrada (4,8,16,32,64,128,256,512,1024,2048,4096). Presente una gráfica comparativa de los tiempos de ejecución en segundos vs la longitud de la señal de entrada.**"
   ]
  }
 ],
 "metadata": {
  "kernelspec": {
   "display_name": ".venv",
   "language": "python",
   "name": "python3"
  },
  "language_info": {
   "codemirror_mode": {
    "name": "ipython",
    "version": 3
   },
   "file_extension": ".py",
   "mimetype": "text/x-python",
   "name": "python",
   "nbconvert_exporter": "python",
   "pygments_lexer": "ipython3",
   "version": "3.13.5"
  }
 },
 "nbformat": 4,
 "nbformat_minor": 5
}
