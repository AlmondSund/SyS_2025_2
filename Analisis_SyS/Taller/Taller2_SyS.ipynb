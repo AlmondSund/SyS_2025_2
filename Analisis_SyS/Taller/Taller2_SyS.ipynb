{
 "cells": [
  {
   "cell_type": "markdown",
   "id": "978ca97e",
   "metadata": {},
   "source": [
    "<div align=\"center\">\n",
    "\n",
    "### **TALLER #2 SEÑALES Y SISTEMAS - 2025 2S**\n",
    "#### **Estudiante:** Martín Ramírez Espinosa\n",
    "##### Departamento de Ingeniería Eléctrica, Electrónica y Computación\n",
    "##### Universidad Nacional de Colombia - Sede Manizales\n",
    "\n",
    "</div>\n",
    "\n",
    "---"
   ]
  },
  {
   "cell_type": "markdown",
   "id": "b1bee1e7",
   "metadata": {},
   "source": [
    "### **1. Transformada de Fourier**"
   ]
  },
  {
   "cell_type": "markdown",
   "id": "0757bdaf",
   "metadata": {},
   "source": [
    "#### **1.1. Consultar y realizar los ejercicios propuestos en el cuaderno 2_TransformadaFourier_SAudio.ipynb**"
   ]
  },
  {
   "cell_type": "markdown",
   "id": "95f2aeb1",
   "metadata": {},
   "source": [
    "---"
   ]
  },
  {
   "cell_type": "markdown",
   "id": "de968645",
   "metadata": {},
   "source": [
    "##### **a) Presente y describa el modelo que utiliza la FFT para el cálculo de los armónicos**"
   ]
  },
  {
   "cell_type": "markdown",
   "id": "6ccc9b68",
   "metadata": {},
   "source": [
    "**Serie de Fourier continua**\n",
    "\n",
    "Para una señal periódica $x(t)$ de periodo $T_0$, la serie de Fourier compleja representa a $x(t)$ como combinación lineal de armónicos:"
   ]
  },
  {
   "cell_type": "markdown",
   "id": "30f8454e",
   "metadata": {},
   "source": [
    "<div align=\"center\">\n",
    "\n",
    "$$\n",
    "x(t) = \\sum_{k=-\\infty}^{\\infty} c_k e^{j k \\omega_0 t}, \\quad c_k = \\frac{1}{T_0} \\int_{t_0}^{t_0+T_0} x(t) e^{-j k \\omega_0 t}\\, dt,\n",
    "$$\n",
    "\n",
    "</div>"
   ]
  },
  {
   "cell_type": "markdown",
   "id": "ff5ed712",
   "metadata": {},
   "source": [
    "donde $\\omega_0 = \\frac{2\\pi}{T_0}$ es la frecuencia angular fundamental. Al hacer tender $T_0$ a infinito, los índices discretos $k$ se densifican dando lugar a un espectro continuo."
   ]
  },
  {
   "cell_type": "markdown",
   "id": "438ed090",
   "metadata": {},
   "source": [
    "**Transformada de Fourier (FT)**\n",
    "\n",
    "El caso aperiódico se modela con la transformada de Fourier, límite continuo de la serie anterior:"
   ]
  },
  {
   "cell_type": "markdown",
   "id": "a8f7c030",
   "metadata": {},
   "source": [
    "<div align=\"center\">\n",
    "\n",
    "$$\n",
    "X(\\omega) = \\int_{-\\infty}^{\\infty} x(t) e^{-j \\omega t}\\, dt, \\qquad x(t) = \\frac{1}{2\\pi} \\int_{-\\infty}^{\\infty} X(\\omega) e^{j \\omega t}\\, d\\omega.\n",
    "$$\n",
    "\n",
    "</div>"
   ]
  },
  {
   "cell_type": "markdown",
   "id": "8f7a7521",
   "metadata": {},
   "source": [
    "Estas expresiones enlazan la señal en el tiempo continuo con su densidad espectral continua sobre $\\omega \\in \\mathbb{R}$."
   ]
  },
  {
   "cell_type": "markdown",
   "id": "811e910e",
   "metadata": {},
   "source": [
    "**Transformada de Fourier de Tiempo Discreto (DTFT)**\n",
    "\n",
    "Si $x(t)$ se muestrea idealmente con periodo $T_s$, se obtiene $x[n] = x(nT_s)$, es decir, un muestreo infinito. Su DTFT se expresa en términos de la frecuencia angular digital $\\Omega$:"
   ]
  },
  {
   "cell_type": "markdown",
   "id": "1cc8672c",
   "metadata": {},
   "source": [
    "<div align=\"center\">\n",
    "\n",
    "$$\n",
    "X(\\Omega) = \\sum_{n=-\\infty}^{\\infty} x[n] e^{-j \\Omega n}, \\qquad -\\pi \\le \\Omega < \\pi,\n",
    "$$\n",
    "\n",
    "</div>"
   ]
  },
  {
   "cell_type": "markdown",
   "id": "34ada247",
   "metadata": {},
   "source": [
    "y la relación inversa, que reconstruye $x[n]$ a partir de un periodo fundamental del espectro periódico, es"
   ]
  },
  {
   "cell_type": "markdown",
   "id": "417c11fc",
   "metadata": {},
   "source": [
    "<div align=\"center\">\n",
    "\n",
    "$$\n",
    "x[n] = \\frac{1}{2\\pi} \\int_{-\\pi}^{\\pi} X(\\Omega) e^{j \\Omega n}\\, d\\Omega.\n",
    "$$\n",
    "\n",
    "</div>"
   ]
  },
  {
   "cell_type": "markdown",
   "id": "434eb424",
   "metadata": {},
   "source": [
    "El factor $\\frac{1}{2\\pi}$ y los límites $[-\\pi, \\pi)$ garantizan la ortonormalidad de las exponenciales discretas y reflejan que $X(\\Omega)$ es $2\\pi$-periódica en $\\Omega$."
   ]
  },
  {
   "cell_type": "markdown",
   "id": "fde32e6d",
   "metadata": {},
   "source": [
    "**Transformada Discreta de Fourier (DFT)**\n",
    "\n",
    "Si la secuencia se trunca a un bloque finito de $N$ muestras, se emplea la DFT:"
   ]
  },
  {
   "cell_type": "markdown",
   "id": "f77c3deb",
   "metadata": {},
   "source": [
    "<div align=\"center\">\n",
    "\n",
    "$$\n",
    "X[k] = \\sum_{n=0}^{N-1} x[n] e^{-j k \\frac{2\\pi}{N} n}, \\qquad k = 0, 1, \\dots, N-1,\n",
    "$$\n",
    "\n",
    "</div>"
   ]
  },
  {
   "cell_type": "markdown",
   "id": "1b47a6d2",
   "metadata": {},
   "source": [
    "con inversa"
   ]
  },
  {
   "cell_type": "markdown",
   "id": "323c4d3a",
   "metadata": {},
   "source": [
    "<div align=\"center\">\n",
    "\n",
    "$$\n",
    "x[n] = \\frac{1}{N} \\sum_{k=0}^{N-1} X[k] e^{j k \\frac{2\\pi}{N} n}, \\qquad n = 0, 1, \\dots, N-1.\n",
    "$$\n",
    "\n",
    "</div>"
   ]
  },
  {
   "cell_type": "markdown",
   "id": "5ed8fea1",
   "metadata": {},
   "source": [
    "Las muestras $X[k]$ muestrean la DTFT cada $\\frac{2\\pi}{N}$ radianes, por lo que representan armónicos discretos de la señal."
   ]
  },
  {
   "cell_type": "markdown",
   "id": "90ed5e32",
   "metadata": {},
   "source": [
    "**Modelo de la FFT para el cálculo de armónicos**\n",
    "\n",
    "Calcular la DFT de forma directa exige $N$ sumas de $N$ productos complejos (orden $O(N^2)$). Los algoritmos FFT, como Cooley–Tukey, factorizan la DFT explotando simetrías de las exponenciales $W_N = e^{-j \\frac{2\\pi}{N}}$. Para $N = 2^m$, se separan las muestras en subsecuencias par $x_e[n] = x[2n]$ e impar $x_o[n] = x[2n+1]$, obteniendo"
   ]
  },
  {
   "cell_type": "markdown",
   "id": "e61e1d35",
   "metadata": {},
   "source": [
    "<div align=\"center\">\n",
    "\n",
    "$$\n",
    "X[k] = X_e[k] + W_N^{k} X_o[k], \\qquad X[k + \\frac{N}{2}] = X_e[k] - W_N^{k} X_o[k],\n",
    "$$\n",
    "\n",
    "</div>"
   ]
  },
  {
   "cell_type": "markdown",
   "id": "ef1f3f0b",
   "metadata": {},
   "source": [
    "con $X_e[k]$ y $X_o[k]$ DFTs de tamaño $\\frac{N}{2}$. Esta descomposición se aplica recursivamente hasta llegar a DFTs de 2 puntos (\"butterflies\")."
   ]
  },
  {
   "cell_type": "markdown",
   "id": "ec6f2fe3",
   "metadata": {},
   "source": [
    "En cada nivel de la recursión se realizan $N$ combinaciones lineales, y hay $\\log_2 N$ niveles, por lo que el costo total es $O(N \\log N)$. Gracias a esta reducción de complejidad, la FFT permite estimar simultáneamente todos los armónicos de señales largas o muestreadas en tiempo real sin incurrir en el costo cuadrático de la DFT directa."
   ]
  },
  {
   "cell_type": "markdown",
   "id": "bae2ff1b",
   "metadata": {},
   "source": [
    "---"
   ]
  },
  {
   "cell_type": "markdown",
   "id": "31d197c1",
   "metadata": {},
   "source": [
    "##### **b) Realice una comparación del tiempo de cómputo requerido para el cálculo de la transformada discreta de Fourier utilizado la estimación por sumatoria vs la FFT. Pruebe distintos valores de longitud de la señal de entrada (4,8,16,32,64,128,256,512,1024,2048,4096). Presente una gráfica comparativa de los tiempos de ejecución en segundos vs la longitud de la señal de entrada.**"
   ]
  },
  {
   "cell_type": "markdown",
   "metadata": {},
   "source": [
    "**Metodología de comparación**  \n",
    "Se evalúa el costo computacional de calcular la DFT de un bloque de longitud $N$ de dos maneras:\n",
    "1. **Sumatoria directa**: implementación $O(N^2)$ que aplica la definición de la DFT mediante la suma doble de exponenciales complejas.\n",
    "2. **FFT (Cooley–Tukey)**: uso de `numpy.fft.fft`, que implementa un algoritmo de orden $O(N \\log N)$.\n",
    "\n",
    "Se generan secuencias reales con una semilla fija para hacer reproducibles los resultados. Para cada $N = 4, 8, 16, 32, 64, 128, 256, 512, 1024, 2048, 4096$ se mide el tiempo en segundos empleando `time.perf_counter()`. Finalmente, se presenta una tabla resumen y una gráfica de tiempo vs. longitud para comparar el crecimiento de la complejidad temporal.\n"
   ]
  },
  {
   "cell_type": "code",
   "execution_count": 13,
   "metadata": {},
   "outputs": [
    {
     "data": {
      "text/html": [
       "<div>\n",
       "<style scoped>\n",
       "    .dataframe tbody tr th:only-of-type {\n",
       "        vertical-align: middle;\n",
       "    }\n",
       "\n",
       "    .dataframe tbody tr th {\n",
       "        vertical-align: top;\n",
       "    }\n",
       "\n",
       "    .dataframe thead th {\n",
       "        text-align: right;\n",
       "    }\n",
       "</style>\n",
       "<table border=\"1\" class=\"dataframe\">\n",
       "  <thead>\n",
       "    <tr style=\"text-align: right;\">\n",
       "      <th></th>\n",
       "      <th>Longitud N</th>\n",
       "      <th>Tiempo DFT [s]</th>\n",
       "      <th>Tiempo FFT [s]</th>\n",
       "    </tr>\n",
       "  </thead>\n",
       "  <tbody>\n",
       "    <tr>\n",
       "      <th>0</th>\n",
       "      <td>4</td>\n",
       "      <td>0.000134</td>\n",
       "      <td>0.000075</td>\n",
       "    </tr>\n",
       "    <tr>\n",
       "      <th>1</th>\n",
       "      <td>8</td>\n",
       "      <td>0.000073</td>\n",
       "      <td>0.000039</td>\n",
       "    </tr>\n",
       "    <tr>\n",
       "      <th>2</th>\n",
       "      <td>16</td>\n",
       "      <td>0.000050</td>\n",
       "      <td>0.000015</td>\n",
       "    </tr>\n",
       "    <tr>\n",
       "      <th>3</th>\n",
       "      <td>32</td>\n",
       "      <td>0.000162</td>\n",
       "      <td>0.000039</td>\n",
       "    </tr>\n",
       "    <tr>\n",
       "      <th>4</th>\n",
       "      <td>64</td>\n",
       "      <td>0.005606</td>\n",
       "      <td>0.000100</td>\n",
       "    </tr>\n",
       "    <tr>\n",
       "      <th>5</th>\n",
       "      <td>128</td>\n",
       "      <td>0.009109</td>\n",
       "      <td>0.000129</td>\n",
       "    </tr>\n",
       "    <tr>\n",
       "      <th>6</th>\n",
       "      <td>256</td>\n",
       "      <td>0.011276</td>\n",
       "      <td>0.000102</td>\n",
       "    </tr>\n",
       "    <tr>\n",
       "      <th>7</th>\n",
       "      <td>512</td>\n",
       "      <td>0.071611</td>\n",
       "      <td>0.000095</td>\n",
       "    </tr>\n",
       "    <tr>\n",
       "      <th>8</th>\n",
       "      <td>1024</td>\n",
       "      <td>0.125865</td>\n",
       "      <td>0.000112</td>\n",
       "    </tr>\n",
       "    <tr>\n",
       "      <th>9</th>\n",
       "      <td>2048</td>\n",
       "      <td>0.287050</td>\n",
       "      <td>0.000142</td>\n",
       "    </tr>\n",
       "    <tr>\n",
       "      <th>10</th>\n",
       "      <td>4096</td>\n",
       "      <td>1.021444</td>\n",
       "      <td>0.000180</td>\n",
       "    </tr>\n",
       "  </tbody>\n",
       "</table>\n",
       "</div>"
      ],
      "text/plain": [
       "    Longitud N  Tiempo DFT [s]  Tiempo FFT [s]\n",
       "0            4        0.000134        0.000075\n",
       "1            8        0.000073        0.000039\n",
       "2           16        0.000050        0.000015\n",
       "3           32        0.000162        0.000039\n",
       "4           64        0.005606        0.000100\n",
       "5          128        0.009109        0.000129\n",
       "6          256        0.011276        0.000102\n",
       "7          512        0.071611        0.000095\n",
       "8         1024        0.125865        0.000112\n",
       "9         2048        0.287050        0.000142\n",
       "10        4096        1.021444        0.000180"
      ]
     },
     "execution_count": 13,
     "metadata": {},
     "output_type": "execute_result"
    }
   ],
   "source": [
    "import numpy as np\n",
    "import matplotlib.pyplot as plt\n",
    "import pandas as pd\n",
    "from time import perf_counter\n",
    "\n",
    "# Longitudes a evaluar\n",
    "signal_lengths = [4, 8, 16, 32, 64, 128, 256, 512, 1024, 2048, 4096]\n",
    "\n",
    "# Implementación directa de la DFT mediante sumatoria (orden O(N^2))\n",
    "def DFT(x):\n",
    "    N = x.size\n",
    "    n = np.arange(N)\n",
    "    k = n[:, None]\n",
    "    twiddle = np.exp(-2j * np.pi * k * n / N)\n",
    "    return twiddle @ x\n",
    "\n",
    "rng = np.random.default_rng(seed=777)\n",
    "times_dft = []\n",
    "times_fft = []\n",
    "\n",
    "for N in signal_lengths:\n",
    "    signal = rng.standard_normal(N)  # señal real de referencia\n",
    "\n",
    "    start = perf_counter()\n",
    "    _ = DFT(signal)\n",
    "    times_dft.append(perf_counter() - start)\n",
    "\n",
    "    start = perf_counter()\n",
    "    _ = np.fft.fft(signal)\n",
    "    times_fft.append(perf_counter() - start)\n",
    "\n",
    "results_df = pd.DataFrame({\n",
    "    'Longitud N': signal_lengths,\n",
    "    'Tiempo DFT [s]': times_dft,\n",
    "    'Tiempo FFT [s]': times_fft,\n",
    "})\n",
    "\n",
    "results_df"
   ]
  },
  {
   "cell_type": "code",
   "execution_count": 14,
   "metadata": {},
   "outputs": [
    {
     "data": {
      "image/png": "[encoded data removed]",
      "text/plain": [
       "<Figure size 800x500 with 1 Axes>"
      ]
     },
     "metadata": {},
     "output_type": "display_data"
    }
   ],
   "source": [
    "plt.figure(figsize=(8, 5))\n",
    "plt.plot(results_df['Longitud N'], results_df['Tiempo DFT [s]'], 'o-', label='DFT')\n",
    "plt.plot(results_df['Longitud N'], results_df['Tiempo FFT [s]'], 's-', label='FFT')\n",
    "plt.xlabel('Longitud de la señal N')\n",
    "plt.ylabel('Tiempo de ejecución [s]')\n",
    "plt.title('Comparación de tiempos de cómputo: DFT directa vs FFT')\n",
    "plt.grid(True, which='both', ls='--', alpha=0.5)\n",
    "plt.legend()\n",
    "plt.show()"
   ]
  },
  {
   "cell_type": "markdown",
   "id": "104bccac",
   "metadata": {},
   "source": [
    "---"
   ]
  },
  {
   "cell_type": "markdown",
   "id": "03ffa617",
   "metadata": {},
   "source": [
    "##### **c) Consulte en qué consiste la frecuencia de -3dB y su relación con las frecuencias de corte en el filtrado espectral de señales.**"
   ]
  }
 ],
 "metadata": {
  "kernelspec": {
   "display_name": ".venv",
   "language": "python",
   "name": "python3"
  },
  "language_info": {
   "codemirror_mode": {
    "name": "ipython",
    "version": 3
   },
   "file_extension": ".py",
   "mimetype": "text/x-python",
   "name": "python",
   "nbconvert_exporter": "python",
   "pygments_lexer": "ipython3",
   "version": "3.13.5"
  }
 },
 "nbformat": 4,
 "nbformat_minor": 5
}
