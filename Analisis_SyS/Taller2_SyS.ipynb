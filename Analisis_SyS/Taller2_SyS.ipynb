{
 "cells": [
  {
   "cell_type": "markdown",
   "id": "978ca97e",
   "metadata": {},
   "source": [
    "<div align=\"center\">\n",
    "\n",
    "### **TALLER #2 SEÑALES Y SISTEMAS - 2025 2S**\n",
    "#### **Estudiante:** Martín Ramírez Espinosa\n",
    "##### Departamento de Ingeniería Eléctrica, Electrónica y Computación\n",
    "##### Universidad Nacional de Colombia - Sede Manizales\n",
    "\n",
    "</div>"
   ]
  },
  {
   "cell_type": "markdown",
   "id": "b1bee1e7",
   "metadata": {},
   "source": [
    "### **1. Transformada de Fourier**"
   ]
  }
 ],
 "metadata": {
  "language_info": {
   "name": "python"
  }
 },
 "nbformat": 4,
 "nbformat_minor": 5
}
