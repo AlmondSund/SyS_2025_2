{
 "cells": [
  {
   "cell_type": "markdown",
   "id": "8f9ab10d",
   "metadata": {},
   "source": [
    "<div align=\"center\">\n",
    "\n",
    "### **PARCIAL #1 SEÑALES Y SISTEMAS - 2025 2S**\n",
    "#### **Estudiante:** Martín Ramírez Espinosa\n",
    "##### Departamento de Ingeniería Eléctrica, Electrónica y Computación\n",
    "##### Universidad Nacional de Colombia - Sede Manizales\n",
    "\n",
    "</div>\n",
    "\n",
    "---"
   ]
  },
  {
   "cell_type": "markdown",
   "id": "415af238",
   "metadata": {},
   "source": [
    "**1.** La distancia media entre dos señales periódicas $x_1(t) \\in \\mathbb{R}, \\mathbb{C}$ y $x_2(t) \\in \\mathbb{R}, \\mathbb{C}$; se puede expresar a partir de la potencia media de la diferencia entre ellas:"
   ]
  },
  {
   "cell_type": "markdown",
   "id": "234fe66c",
   "metadata": {},
   "source": [
    "<div align=\"center\">\n",
    "\n",
    "$d^2(x_1, x_2) = \\overline{P}_{(x_1 - x_2)} = \\lim_{T\\to\\infty} \\frac{1}{T} \\int_{T} \\left| x_{1}(t) - x_{2}(t) \\right|^{2} \\, dt$\n",
    "\n",
    "</div>"
   ]
  },
  {
   "cell_type": "markdown",
   "id": "649c9b1b",
   "metadata": {},
   "source": [
    "Sean $x_1(t)$ y $x_2(t)$ definidas como:"
   ]
  },
  {
   "cell_type": "markdown",
   "id": "dd0c257f",
   "metadata": {},
   "source": [
    "<div align=\"center\">\n",
    "\n",
    "$\n",
    "\\begin{aligned}\n",
    "x_{1}(t) &= A e^{-\\mathrm{j} n \\omega_{0} t} &\\qquad& \\omega_{0}=\\frac{2\\pi}{\\Tau},\\ \\ \\Tau,A,B\\in\\mathbb{R}^{+},\\ \\ n,m\\in\\mathbb{Z} \\\\\n",
    "x_{2}(t) &= B e^{\\mathrm{j} m \\omega_{0} t} &&\n",
    "\\end{aligned}\n",
    "$\n",
    "\n",
    "</div>"
   ]
  },
  {
   "cell_type": "markdown",
   "id": "72173c3a",
   "metadata": {},
   "source": [
    "Determine la distancia entre las dos señales. Compruebe sus resultados con Python."
   ]
  },
  {
   "cell_type": "markdown",
   "id": "45ef7694",
   "metadata": {},
   "source": [
    "---"
   ]
  },
  {
   "cell_type": "markdown",
   "id": "531841ae",
   "metadata": {},
   "source": [
    "**2.** Encuentre la señal en tiempo discreto al utilizar un conversor análogo a digital con frecuencia de muestreo de $5 kHz$ y $4 bits$ de capacidad de representación aplicado a la señal continua:"
   ]
  },
  {
   "cell_type": "markdown",
   "id": "247e27e2",
   "metadata": {},
   "source": [
    "<div align=\"center\">\n",
    "\n",
    "$x(t) = 3\\cos(1000\\pi t) + 5\\sin(3000\\pi t) + 10\\cos(11000\\pi t)$\n",
    "\n",
    "</div>"
   ]
  },
  {
   "cell_type": "markdown",
   "id": "00b100c1",
   "metadata": {},
   "source": [
    "Realizar la simulación del proceso de discretización de al menos tres periodos de $x(t)$. En caso de que la discretización no sea apropiada, diseñe e implemete un conversor adecuado para la señal estudiada."
   ]
  },
  {
   "cell_type": "markdown",
   "id": "c96f60cc",
   "metadata": {},
   "source": [
    "---"
   ]
  },
  {
   "cell_type": "markdown",
   "id": "2ffd2f52",
   "metadata": {},
   "source": [
    "**3.** Sea $x''(t)$ la segunda derivada de la señal $x(t)$, donde $t \\in [t_i, t_f]$. Demuestre que los coeficientes de la serie exponencial de Fourier se pueden calcular según:"
   ]
  },
  {
   "cell_type": "markdown",
   "id": "128d638c",
   "metadata": {},
   "source": [
    "<div align=\"center\">\n",
    "\n",
    "$c_n = \\frac{1}{(t_{i}-t_{f})n^2\\omega_0^2} \\int_{t_i}^{t_f} x''(t)\\, e^{-j n \\omega_0 t}\\, dt, \\qquad n \\in \\mathbb{Z}$\n",
    "\n",
    "</div>"
   ]
  },
  {
   "cell_type": "markdown",
   "id": "9861e35b",
   "metadata": {},
   "source": [
    "¿Cómo se pueden calcular los coeficientes $a_n$ y $b_n$ desde $x''(t)$ en la serie trigonométrica de Fourier?"
   ]
  },
  {
   "cell_type": "markdown",
   "id": "deb64656",
   "metadata": {},
   "source": [
    "---"
   ]
  },
  {
   "cell_type": "markdown",
   "id": "35b02869",
   "metadata": {},
   "source": [
    "**4.** Encuentre el espectro de Fourier, su parte real e imaginaria, magnitud, fase y el error relativo de la estimación para $n \\in \\{0, \\pm1, \\pm2, \\pm3, \\pm4, \\pm5\\}$ a partir de $x''(t)$ para la señal $x(t)$ en la figura. Compruebe el espectro obtenido con la estimación a partir de $x(t)$. Presente la simulaciones de Python respectivas."
   ]
  }
 ],
 "metadata": {
  "language_info": {
   "name": "python"
  }
 },
 "nbformat": 4,
 "nbformat_minor": 5
}
