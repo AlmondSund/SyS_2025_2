{
 "cells": [
  {
   "cell_type": "markdown",
   "id": "17bbed4c",
   "metadata": {},
   "source": [
    "### **Ejercicio**: Estimar $x(t)$ por medio de su serie de Fourier."
   ]
  },
  {
   "cell_type": "markdown",
   "id": "981310ec",
   "metadata": {},
   "source": [
    "$\n",
    "x(t)=\n",
    "\\begin{cases}\n",
    "0, & -\\tfrac{T}{2}\\le t< -d,\\\\[2mm]\n",
    "m\\,t+B, & -d\\le t<0,\\\\[2mm]\n",
    "-\\,m\\,t+B, & 0\\le t<d,\\\\[2mm]\n",
    "0, & d\\le t\\le \\tfrac{T}{2},\n",
    "\\end{cases}\n",
    "\\qquad m=\\frac{B}{d},\\qquad \\omega_0=\\frac{2\\pi}{T}.\n",
    "$"
   ]
  },
  {
   "cell_type": "markdown",
   "id": "5cd2b751",
   "metadata": {},
   "source": [
    "Y con $ 0 < d \\le \\frac{\\Tau}{2} $."
   ]
  },
  {
   "cell_type": "code",
   "execution_count": 1,
   "id": "4ccb30a3",
   "metadata": {},
   "outputs": [],
   "source": [
    "import sympy as sp\n",
    "\n",
    "# Variable independiente\n",
    "t = sp.symbols('t', real=True)\n",
    "\n",
    "# Parámetros\n",
    "T = 2*sp.pi\n",
    "d = T/4\n",
    "B = 1.0\n",
    "\n",
    "m = B/d\n",
    "\n",
    "# Definición de x(t)\n",
    "x_t = sp.Piecewise(\n",
    "    (0, (t >= -T/2) & (t < -d)),     # x(t) = 0 si -T/2 <= t < -d\n",
    "    (m*t + B, (t >= -d) & (t < 0)),  # x(t) = mt + B si -d <= t < 0\n",
    "    (-m*t + B, (t >= 0) & (t < d)),  # x(t) = -mt + B si 0 <= t < d\n",
    "    (0, (t >= d) & (t <= T/2))       # x(t) = 0 si d <= t <= T/2\n",
    ")"
   ]
  },
  {
   "cell_type": "markdown",
   "id": "6b4dea41",
   "metadata": {},
   "source": [
    "#### Cálculo de los términos $C_n$"
   ]
  },
  {
   "cell_type": "code",
   "execution_count": 2,
   "id": "b08eb3c8",
   "metadata": {},
   "outputs": [],
   "source": [
    "# Índice de armónicos\n",
    "n = sp.symbols('n', integer=True)\n",
    "\n",
    "# Frecuencia fundamental\n",
    "w_0 = 2 * sp.pi / T"
   ]
  },
  {
   "cell_type": "markdown",
   "id": "2033996d",
   "metadata": {},
   "source": [
    "$\n",
    "x(t)\\sim\\sum_{n=-\\infty}^{\\infty} C_n\\,e^{j n\\omega_0 t},\n",
    "\\qquad\n",
    "C_n=\\frac{1}{T}\\int_{-T/2}^{T/2}x(t)\\,e^{-j n\\omega_0 t}\\,dt.\n",
    "$"
   ]
  },
  {
   "cell_type": "markdown",
   "id": "9f81e4f6",
   "metadata": {},
   "source": [
    "$\n",
    "C_0=\\frac{1}{T}\\!\\left(\\int_{-d}^{0}(m t+B)\\,dt+\\int_{0}^{d}(-m t+B)\\,dt\\right)\n",
    "=\\frac{B d}{T}.\n",
    "$"
   ]
  },
  {
   "cell_type": "code",
   "execution_count": 3,
   "id": "b6443132",
   "metadata": {},
   "outputs": [],
   "source": [
    "C_0 = B * d / T"
   ]
  },
  {
   "cell_type": "markdown",
   "id": "8f4e2d22",
   "metadata": {},
   "source": [
    "$\n",
    "C_n=\\frac{1}{T}\\!\\left(\\int_{-d}^{0}(m t+B)e^{-j a t}\\,dt+\\int_{0}^{d}(-m t+B)e^{-j a t}\\,dt\\right),\n",
    "\\quad a=n\\omega_0\\neq 0.\n",
    "$"
   ]
  },
  {
   "cell_type": "markdown",
   "id": "52ada7c4",
   "metadata": {},
   "source": [
    "Antiderivadas útiles:"
   ]
  },
  {
   "cell_type": "markdown",
   "id": "416810ae",
   "metadata": {},
   "source": [
    "$\n",
    "\\int e^{-j a t}\\,dt=\\frac{j}{a}e^{-j a t},\\qquad\n",
    "\\int t\\,e^{-j a t}\\,dt=\\frac{(1+j a t)e^{-j a t}}{a^2}.\n",
    "$"
   ]
  },
  {
   "cell_type": "markdown",
   "id": "d2b2e4d7",
   "metadata": {},
   "source": [
    "$\n",
    "\\begin{aligned}\n",
    "I_1&=\\int_{-d}^{0}(m t+B)e^{-j a t}\\,dt\n",
    "=\\frac{m}{a^2}\\!\\left[1-(1-j a d)e^{j a d}\\right]\n",
    "+\\frac{B j}{a}\\!\\left[1-e^{j a d}\\right],\\\\\n",
    "I_2&=\\int_{0}^{d}(-m t+B)e^{-j a t}\\,dt\n",
    "=-\\frac{m}{a^2}\\!\\left[(1+j a d)e^{-j a d}-1\\right]\n",
    "+\\frac{B j}{a}\\!\\left[e^{-j a d}-1\\right].\n",
    "\\end{aligned}\n",
    "$"
   ]
  },
  {
   "cell_type": "markdown",
   "id": "b9aaa10c",
   "metadata": {},
   "source": [
    "$\n",
    "I_1+I_2=\\frac{2m}{a^2}\\!\\left[1-\\cos(a d)-a d\\sin(a d)\\right]+\\frac{2B}{a}\\sin(a d).\n",
    "$"
   ]
  },
  {
   "cell_type": "markdown",
   "id": "c1b2a248",
   "metadata": {},
   "source": [
    "$\n",
    "m=\\frac{B}{d}\\;\\Rightarrow\\; I_1+I_2=\\frac{2B}{d\\,a^2}\\left[1-\\cos(a d)\\right].\n",
    "$"
   ]
  },
  {
   "cell_type": "markdown",
   "id": "56522c5a",
   "metadata": {},
   "source": [
    "$\n",
    "C_n=\\frac{1}{T}(I_1+I_2)\n",
    "=\\frac{B T}{2\\pi^2 d\\,n^2}\\!\\left(1-\\cos\\frac{2\\pi n d}{T}\\right),\\quad n\\neq 0.\n",
    "$"
   ]
  },
  {
   "cell_type": "code",
   "execution_count": 4,
   "id": "27c84d0b",
   "metadata": {},
   "outputs": [],
   "source": [
    "C_n = B * T / (2 * sp.pi**2 * d * n**2) * (1 - sp.cos(2 * sp.pi * n * d / T))"
   ]
  },
  {
   "cell_type": "markdown",
   "id": "39ee07e1",
   "metadata": {},
   "source": [
    "**Por lo tanto, la aproximación por 2N+1 armónicos de $x(t)$ será**"
   ]
  },
  {
   "cell_type": "markdown",
   "id": "a0cd7d02",
   "metadata": {},
   "source": [
    "$\n",
    "\\hat{x}_N(t)= C_0 + \\sum_{n=-N}^{N}C_n\\,e^{j n\\omega_0 t},\\quad n\\neq 0\n",
    "$."
   ]
  },
  {
   "cell_type": "code",
   "execution_count": 5,
   "id": "fca5d603",
   "metadata": {},
   "outputs": [],
   "source": [
    "N = 20\n",
    "\n",
    "x_hat = C_0 + sum(C_n.subs(n, k) * sp.exp(sp.I * k * w_0 * t) for k in range(-N, N+1) if k != 0)"
   ]
  },
  {
   "cell_type": "markdown",
   "id": "f6abe6c6",
   "metadata": {},
   "source": [
    "### **Resultados**:"
   ]
  },
  {
   "cell_type": "code",
   "execution_count": 6,
   "id": "9c1ebc95",
   "metadata": {},
   "outputs": [
    {
     "data": {
      "image/png": "[encoded data removed]",
      "text/plain": [
       "<Figure size 640x480 with 1 Axes>"
      ]
     },
     "metadata": {},
     "output_type": "display_data"
    }
   ],
   "source": [
    "p1 = sp.plotting.plot(x_t, (t, -T/2, T/2), show=False, label='$x(t)$', line_color='darkblue')\n",
    "p2 = sp.plotting.plot(x_hat, (t, -T/2, T/2), show=False, label='$\\\\hat{x}(t)$', line_color='red')\n",
    "p1.append(p2[0])\n",
    "p1.xlabel = '$t$'\n",
    "p1.ylabel = '$x(t), \\\\hat{x}(t)$'\n",
    "p1.legend = True\n",
    "p1.show()"
   ]
  }
 ],
 "metadata": {
  "kernelspec": {
   "display_name": ".venv",
   "language": "python",
   "name": "python3"
  },
  "language_info": {
   "codemirror_mode": {
    "name": "ipython",
    "version": 3
   },
   "file_extension": ".py",
   "mimetype": "text/x-python",
   "name": "python",
   "nbconvert_exporter": "python",
   "pygments_lexer": "ipython3",
   "version": "3.13.5"
  }
 },
 "nbformat": 4,
 "nbformat_minor": 5
}
