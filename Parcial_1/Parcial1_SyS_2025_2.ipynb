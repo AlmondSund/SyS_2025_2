{
 "cells": [
  {
   "cell_type": "markdown",
   "id": "8f9ab10d",
   "metadata": {},
   "source": [
    "<div align=\"center\">\n",
    "\n",
    "### **PARCIAL #1 SEÑALES Y SISTEMAS - 2025 2S**\n",
    "#### **Estudiante:** Martín Ramírez Espinosa\n",
    "##### Departamento de Ingeniería Eléctrica, Electrónica y Computación\n",
    "##### Universidad Nacional de Colombia - Sede Manizales\n",
    "\n",
    "</div>\n",
    "\n",
    "---"
   ]
  },
  {
   "cell_type": "code",
   "execution_count": 10,
   "id": "2a2800f8",
   "metadata": {},
   "outputs": [],
   "source": [
    "import numpy as np\n",
    "import sympy as sp\n",
    "import matplotlib.pyplot as plt"
   ]
  },
  {
   "cell_type": "markdown",
   "id": "7f26de40",
   "metadata": {},
   "source": [
    "---"
   ]
  },
  {
   "cell_type": "markdown",
   "id": "415af238",
   "metadata": {},
   "source": [
    "**1.** La distancia media entre dos señales periódicas $x_1(t) \\in \\mathbb{R}, \\mathbb{C}$ y $x_2(t) \\in \\mathbb{R}, \\mathbb{C}$; se puede expresar a partir de la potencia media de la diferencia entre ellas:"
   ]
  },
  {
   "cell_type": "markdown",
   "id": "234fe66c",
   "metadata": {},
   "source": [
    "<div align=\"center\">\n",
    "\n",
    "$d^2(x_1, x_2) = \\overline{P}_{(x_1 - x_2)} = \\lim_{T\\to\\infty} \\frac{1}{T} \\int_{T} \\left| x_{1}(t) - x_{2}(t) \\right|^{2} \\, dt$\n",
    "\n",
    "</div>"
   ]
  },
  {
   "cell_type": "markdown",
   "id": "649c9b1b",
   "metadata": {},
   "source": [
    "Sean $x_1(t)$ y $x_2(t)$ definidas como:"
   ]
  },
  {
   "cell_type": "markdown",
   "id": "dd0c257f",
   "metadata": {},
   "source": [
    "<div align=\"center\">\n",
    "\n",
    "$\n",
    "\\begin{aligned}\n",
    "x_{1}(t) &= A e^{-\\mathrm{j} n \\omega_{0} t} &\\qquad& \\omega_{0}=\\frac{2\\pi}{\\Tau},\\ \\ \\Tau,A,B\\in\\mathbb{R}^{+},\\ \\ n,m\\in\\mathbb{Z} \\\\\n",
    "x_{2}(t) &= B e^{\\mathrm{j} m \\omega_{0} t} &&\n",
    "\\end{aligned}\n",
    "$\n",
    "\n",
    "</div>"
   ]
  },
  {
   "cell_type": "markdown",
   "id": "72173c3a",
   "metadata": {},
   "source": [
    "Determine la distancia entre las dos señales. Compruebe sus resultados con Python."
   ]
  },
  {
   "cell_type": "code",
   "execution_count": 11,
   "id": "cb88b45f",
   "metadata": {},
   "outputs": [
    {
     "data": {
      "text/latex": [
       "$\\displaystyle \\sqrt{A^{2} - 2 A B + B^{2}}$"
      ],
      "text/plain": [
       "sqrt(A**2 - 2*A*B + B**2)"
      ]
     },
     "execution_count": 11,
     "metadata": {},
     "output_type": "execute_result"
    }
   ],
   "source": [
    "''' Definición de las variables simbólicas '''\n",
    "# Variable independiente\n",
    "t = sp.symbols('t', real=True)\n",
    "\n",
    "# Parámetros de las señales\n",
    "A, B = sp.symbols('A B', real=True, positive=True)  # Amplitudes\n",
    "T = sp.symbols('T', real=True, positive=True)       # Periodo fundamental [s]\n",
    "w_0 = 2 * sp.pi / T                                 # Frecuencia angular fundamental [rad/s]\n",
    "n, m = sp.symbols('n m', integer=True)              # Múltiplos enteros de la frecuencia fundamental\n",
    "\n",
    "''' Definición de las señales '''\n",
    "x_1 = A * sp.exp( -sp.I * n * w_0 * t )  # x_1(t)\n",
    "x_2 = B * sp.exp( sp.I * m * w_0 * t )   # x_2(t)\n",
    "\n",
    "''' Cálculo de la distancia media entre las señales '''\n",
    "# Definición de la distancia media\n",
    "d = sp.sqrt(sp.limit( (1 / T) * sp.integrate( sp.Abs(x_1 - x_2)**2, (t, 0, T) ), T, sp.oo ))\n",
    "# Imprimir el resultado\n",
    "d"
   ]
  },
  {
   "cell_type": "markdown",
   "id": "45ef7694",
   "metadata": {},
   "source": [
    "---"
   ]
  },
  {
   "cell_type": "markdown",
   "id": "531841ae",
   "metadata": {},
   "source": [
    "**2.** Encuentre la señal en tiempo discreto al utilizar un conversor análogo a digital con frecuencia de muestreo de $5 kHz$ y $4 bits$ de capacidad de representación aplicado a la señal continua:"
   ]
  },
  {
   "cell_type": "markdown",
   "id": "247e27e2",
   "metadata": {},
   "source": [
    "<div align=\"center\">\n",
    "\n",
    "$x(t) = 3\\cos(1000\\pi t) + 5\\sin(3000\\pi t) + 10\\cos(11000\\pi t)$\n",
    "\n",
    "</div>"
   ]
  },
  {
   "cell_type": "markdown",
   "id": "00b100c1",
   "metadata": {},
   "source": [
    "Realizar la simulación del proceso de discretización de al menos tres periodos de $x(t)$. En caso de que la discretización no sea apropiada, diseñe e implemete un conversor adecuado para la señal estudiada."
   ]
  },
  {
   "cell_type": "code",
   "execution_count": null,
   "id": "ee470071",
   "metadata": {},
   "outputs": [],
   "source": [
    "''' Parámetros del conversor A/D '''\n",
    "# Muestreo\n",
    "Fs = 5000    # Frecuencia de muestreo [Hz]\n",
    "Ts = 1 / Fs  # Periodo de muestreo [s]\n",
    "\n",
    "# Capacidad de representación\n",
    "n_bits = 4              # Número de bits\n",
    "num_levels = 2**n_bits  # Número de niveles de cuantización\n",
    "\n",
    "''' Tiempos '''\n",
    "T = 1 / (11000*np.pi)                             # Periodo fundamental (periodo de la señal con frecuencia mayor) [s]\n",
    "sim_time = 3 * T                                  # Tiempo de simulación (al menos 3 periodos) [s]\n",
    "t = np.linspace(0, sim_time, int(Fs * sim_time))  # Vector de tiempo 'continuo' [s]\n",
    "t_k = np.arange(0, sim_time, Ts)                  # Vector de tiempo discreto [s]\n",
    "\n",
    "''' Definición de la señal x(t) '''\n",
    "x_t = 3 * np.cos(1000*np.pi*t) + 5 * np.sin(3000*np.pi*t) + 10 * np.cos(11000*np.pi*t)         # x(t) \n",
    "x_tk = 3 * np.cos(1000*np.pi*t_k) + 5 * np.sin(3000*np.pi*t_k) + 10 * np.cos(11000*np.pi*t_k)  # x[t_k]\n"
   ]
  },
  {
   "cell_type": "markdown",
   "id": "c96f60cc",
   "metadata": {},
   "source": [
    "---"
   ]
  },
  {
   "cell_type": "markdown",
   "id": "2ffd2f52",
   "metadata": {},
   "source": [
    "**3.** Sea $x''(t)$ la segunda derivada de la señal $x(t)$, donde $t \\in [t_i, t_f]$. Demuestre que los coeficientes de la serie exponencial de Fourier se pueden calcular según:"
   ]
  },
  {
   "cell_type": "markdown",
   "id": "128d638c",
   "metadata": {},
   "source": [
    "<div align=\"center\">\n",
    "\n",
    "$c_n = \\frac{1}{(t_{i}-t_{f})n^2\\omega_0^2} \\int_{t_i}^{t_f} x''(t)\\, e^{-j n \\omega_0 t}\\, dt, \\qquad n \\in \\mathbb{Z}$\n",
    "\n",
    "</div>"
   ]
  },
  {
   "cell_type": "markdown",
   "id": "9861e35b",
   "metadata": {},
   "source": [
    "¿Cómo se pueden calcular los coeficientes $a_n$ y $b_n$ desde $x''(t)$ en la serie trigonométrica de Fourier?"
   ]
  },
  {
   "cell_type": "markdown",
   "id": "deb64656",
   "metadata": {},
   "source": [
    "---"
   ]
  },
  {
   "cell_type": "markdown",
   "id": "35b02869",
   "metadata": {},
   "source": [
    "**4.** Encuentre el espectro de Fourier, su parte real e imaginaria, magnitud, fase y el error relativo de la estimación para $n \\in \\{0, \\pm1, \\pm2, \\pm3, \\pm4, \\pm5\\}$ a partir de $x''(t)$ para la señal $x(t)$ en la Figura 1. Compruebe el espectro obtenido con la estimación a partir de $x(t)$. Presente la simulaciones de Python respectivas."
   ]
  },
  {
   "cell_type": "markdown",
   "id": "716ea0b7",
   "metadata": {},
   "source": [
    "<div align=\"center\">\n",
    "  <img src=\"Signal.png\" alt=\"Signal\" width=\"500\">\n",
    "  <br><strong>Figura 1. Señal x(t)</strong><br>\n",
    "</div>"
   ]
  }
 ],
 "metadata": {
  "kernelspec": {
   "display_name": ".venv",
   "language": "python",
   "name": "python3"
  },
  "language_info": {
   "codemirror_mode": {
    "name": "ipython",
    "version": 3
   },
   "file_extension": ".py",
   "mimetype": "text/x-python",
   "name": "python",
   "nbconvert_exporter": "python",
   "pygments_lexer": "ipython3",
   "version": "3.13.5"
  }
 },
 "nbformat": 4,
 "nbformat_minor": 5
}
